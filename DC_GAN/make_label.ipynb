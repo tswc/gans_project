{
 "cells": [
  {
   "cell_type": "code",
   "execution_count": 1,
   "metadata": {},
   "outputs": [],
   "source": [
    "import pickle\n",
    "import numpy as np"
   ]
  },
  {
   "cell_type": "code",
   "execution_count": 2,
   "metadata": {},
   "outputs": [],
   "source": [
    "y = [1,6,3,2,3,\n",
    "    0,2,6,0,0,\n",
    "    1,9,1,5,8,\n",
    "    8,8,7,6,9,\n",
    "    8,4,3,6,8,\n",
    "    4,0,6,0,0,\n",
    "    0,0,0,2,3,\n",
    "    6,8,7,9,2,\n",
    "    7,5,1,3,8,\n",
    "    7,3,1,7,8,\n",
    "    7,9,2,4,1,\n",
    "    2,3,3,7,4,\n",
    "    8,2,0,1,0,\n",
    "    0,8,1,2,1,\n",
    "    7,0,2,0,6,\n",
    "    7,7,8,0,0,\n",
    "    7,5,6,1,4,\n",
    "    9,4,1,5,0,\n",
    "    5,4,0,3,8,\n",
    "    3,4,9,3,8]\n",
    "y = np.array(y)"
   ]
  },
  {
   "cell_type": "code",
   "execution_count": 3,
   "metadata": {},
   "outputs": [],
   "source": [
    "with open('label_DCgan.pkl', 'wb') as f:\n",
    "    pickle.dump(y, f)"
   ]
  },
  {
   "cell_type": "code",
   "execution_count": null,
   "metadata": {},
   "outputs": [],
   "source": []
  }
 ],
 "metadata": {
  "kernelspec": {
   "display_name": "Python [conda env:py3]",
   "language": "python",
   "name": "conda-env-py3-py"
  },
  "language_info": {
   "codemirror_mode": {
    "name": "ipython",
    "version": 3
   },
   "file_extension": ".py",
   "mimetype": "text/x-python",
   "name": "python",
   "nbconvert_exporter": "python",
   "pygments_lexer": "ipython3",
   "version": "3.5.4"
  }
 },
 "nbformat": 4,
 "nbformat_minor": 2
}
