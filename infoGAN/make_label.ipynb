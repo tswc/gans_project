{
 "cells": [
  {
   "cell_type": "code",
   "execution_count": 1,
   "metadata": {},
   "outputs": [],
   "source": [
    "import pickle\n",
    "import numpy as np"
   ]
  },
  {
   "cell_type": "code",
   "execution_count": 2,
   "metadata": {},
   "outputs": [],
   "source": [
    "y = [6,6,6,6,6,\n",
    "    6,6,6,6,6,\n",
    "    9,7,4,9,9,\n",
    "    9,9,7,7,4,\n",
    "    3,3,3,3,3,\n",
    "    3,3,3,3,3,\n",
    "    1,1,1,1,1,\n",
    "    1,1,1,1,1,\n",
    "    4,7,4,7,4,\n",
    "    4,7,9,2,9,\n",
    "    0,0,0,0,0,\n",
    "    0,0,0,0,0,\n",
    "    2,2,2,2,2,\n",
    "    2,2,2,2,2,\n",
    "    5,5,5,5,5,\n",
    "    5,5,5,5,5,\n",
    "    9,7,4,9,4,\n",
    "    7,9,4,7,9,\n",
    "    8,8,8,8,8,\n",
    "    8,8,8,8,8]\n",
    "y = np.array(y)"
   ]
  },
  {
   "cell_type": "code",
   "execution_count": 3,
   "metadata": {},
   "outputs": [],
   "source": [
    "with open('label_DCgan.pkl', 'wb') as f:\n",
    "    pickle.dump(y, f)"
   ]
  },
  {
   "cell_type": "code",
   "execution_count": null,
   "metadata": {},
   "outputs": [],
   "source": []
  }
 ],
 "metadata": {
  "kernelspec": {
   "display_name": "Python [conda env:py3]",
   "language": "python",
   "name": "conda-env-py3-py"
  },
  "language_info": {
   "codemirror_mode": {
    "name": "ipython",
    "version": 3
   },
   "file_extension": ".py",
   "mimetype": "text/x-python",
   "name": "python",
   "nbconvert_exporter": "python",
   "pygments_lexer": "ipython3",
   "version": "3.5.4"
  }
 },
 "nbformat": 4,
 "nbformat_minor": 2
}
