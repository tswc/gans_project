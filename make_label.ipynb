{
 "cells": [
  {
   "cell_type": "code",
   "execution_count": 3,
   "metadata": {},
   "outputs": [],
   "source": [
    "import pickle\n",
    "import numpy as np"
   ]
  },
  {
   "cell_type": "code",
   "execution_count": 4,
   "metadata": {},
   "outputs": [],
   "source": [
    "y = [9,5,9,0,9,\n",
    "    9,2,6,0,6,\n",
    "    1,3,5,3,1,\n",
    "    6,9,3,3,8,\n",
    "    8,3,3,2,5,\n",
    "    4,0,5,8,2,\n",
    "    4,1,4,9,4,\n",
    "    1,6,0,2,7,\n",
    "    1,2,3,3,9,\n",
    "    1,8,7,3,5,\n",
    "    3,3,8,6,0,\n",
    "    7,8,7,7,2,\n",
    "    1,9,7,1,7,\n",
    "    9,9,9,8,6,\n",
    "    3,1,6,4,8,\n",
    "    5,8,1,4,1,\n",
    "    0,4,7,9,7,\n",
    "    2,8,2,4,5,\n",
    "    1,0,4,4,0,\n",
    "    9,3,7,9,9]\n",
    "y = np.array(y)"
   ]
  },
  {
   "cell_type": "code",
   "execution_count": 5,
   "metadata": {},
   "outputs": [],
   "source": [
    "with open('label_DCgan.pkl', 'wb') as f:\n",
    "    pickle.dump(y, f)"
   ]
  },
  {
   "cell_type": "code",
   "execution_count": null,
   "metadata": {},
   "outputs": [],
   "source": []
  }
 ],
 "metadata": {
  "kernelspec": {
   "display_name": "Python [conda env:py3]",
   "language": "python",
   "name": "conda-env-py3-py"
  },
  "language_info": {
   "codemirror_mode": {
    "name": "ipython",
    "version": 3
   },
   "file_extension": ".py",
   "mimetype": "text/x-python",
   "name": "python",
   "nbconvert_exporter": "python",
   "pygments_lexer": "ipython3",
   "version": "3.5.4"
  }
 },
 "nbformat": 4,
 "nbformat_minor": 2
}
